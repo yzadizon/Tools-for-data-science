{
 "cells": [
  {
   "cell_type": "markdown",
   "id": "d7aecae3-7aab-4ff7-9b13-117aebee4912",
   "metadata": {
    "tags": []
   },
   "source": [
    "##### Exercise 2: Create a markdown cell with title of the notebook Data Science Tools and Ecosystem using H1 style heading."
   ]
  },
  {
   "cell_type": "code",
   "execution_count": null,
   "id": "c4f40757-96a3-4e0d-9055-8db9ca62a11a",
   "metadata": {},
   "outputs": [],
   "source": [
    "# Data Science Tools and Ecosystem"
   ]
  },
  {
   "cell_type": "markdown",
   "id": "3c1ca814-e27a-4d53-acf3-c374d3cb9d68",
   "metadata": {},
   "source": [
    "# Data Science Tools and Ecosystem"
   ]
  },
  {
   "cell_type": "markdown",
   "id": "7f9a0e06-b82a-473d-842a-67575c08f27f",
   "metadata": {},
   "source": [
    "##### Exercise 3: Create a markdown cell for an introduction. Write an introductory sentence about the notebook."
   ]
  },
  {
   "cell_type": "code",
   "execution_count": null,
   "id": "59311a9d-7a93-4fca-8188-8b20379fbcbc",
   "metadata": {
    "tags": []
   },
   "outputs": [],
   "source": [
    "### In this notebook, Data Science tools and Ecosystem are summarized."
   ]
  },
  {
   "cell_type": "markdown",
   "id": "cf632ea4-1271-4d81-9e30-e413c7ecd145",
   "metadata": {},
   "source": [
    "### In this notebook, Data Science tools and Ecosystem are summarized."
   ]
  },
  {
   "cell_type": "markdown",
   "id": "89854810-da8d-4f0d-b0de-448b135477e6",
   "metadata": {},
   "source": [
    "##### Exercise 4: Create a markdown cell to list data science languages"
   ]
  },
  {
   "cell_type": "code",
   "execution_count": null,
   "id": "6945ea74-d06f-4d6a-913f-9f1ccfbb5f0c",
   "metadata": {},
   "outputs": [],
   "source": [
    "#### Some of the popular languages that Data Scientists use are:\n",
    "    1. Python\n",
    "    2. R\n",
    "    3. SQL"
   ]
  },
  {
   "cell_type": "markdown",
   "id": "9521138d-c1d3-4cbf-b54b-be30421d0280",
   "metadata": {},
   "source": [
    "#### Some of the popular languages that Data Scientists use are:\n",
    "    1. Python\n",
    "    2. R\n",
    "    3. SQL"
   ]
  },
  {
   "cell_type": "markdown",
   "id": "14ceeac3-82ba-4408-9ac0-a8597a0523b9",
   "metadata": {},
   "source": [
    "##### Exercise 5: Create a markdown cell to list data science libraries"
   ]
  },
  {
   "cell_type": "code",
   "execution_count": null,
   "id": "8ab3e8b5-972d-40c0-a020-2eab7e9cdfd0",
   "metadata": {},
   "outputs": [],
   "source": [
    "#### Some of the commonly used libraries used by Data Scientists include:\n",
    "    1. Pandas\n",
    "    2. NumPy\n",
    "    3. PyTorch"
   ]
  },
  {
   "cell_type": "markdown",
   "id": "c783a8d2-5000-4aac-acb0-f1394e1b7d5b",
   "metadata": {},
   "source": [
    "#### Some of the commonly used libraries used by Data Scientists include:\n",
    "    1. Pandas\n",
    "    2. NumPy\n",
    "    3. PyTorch"
   ]
  },
  {
   "cell_type": "markdown",
   "id": "4de1f3e6-10b0-4fa0-92a2-bd372093d466",
   "metadata": {
    "tags": []
   },
   "source": [
    "##### Exercise 6: Create a markdown cell with a table of Data Science tools"
   ]
  },
  {
   "cell_type": "code",
   "execution_count": null,
   "id": "33eee954-3251-4917-8f58-9112bab1de27",
   "metadata": {},
   "outputs": [],
   "source": [
    "|Data Science Tools|\n",
    "|------------------|\n",
    "| Jupyter notebooks|\n",
    "| RStudio |\n",
    "| IBM Watson Studio|"
   ]
  },
  {
   "cell_type": "markdown",
   "id": "993d362b-6848-40a0-bdb4-9dc523ef1176",
   "metadata": {},
   "source": [
    "|Data Science Tools|\n",
    "|------------------|\n",
    "| Jupyter notebooks|\n",
    "| RStudio |\n",
    "| IBM Watson Studio|"
   ]
  },
  {
   "cell_type": "markdown",
   "id": "cc080496-6cb1-46f3-b959-6e3031973708",
   "metadata": {},
   "source": [
    "##### Exercise 7: Create a markdown cell introducing arithmetic expression examples"
   ]
  },
  {
   "cell_type": "code",
   "execution_count": null,
   "id": "02145ded-ec61-4c7f-84cc-7d45397ac704",
   "metadata": {},
   "outputs": [],
   "source": [
    "### Below are a few examples of evaluating arithmetic expressions in Python"
   ]
  },
  {
   "cell_type": "markdown",
   "id": "3d5865ef-2075-42bc-b3f4-67f9fa56a8ab",
   "metadata": {},
   "source": [
    "### Below are a few examples of evaluating arithmetic expressions in Python"
   ]
  },
  {
   "cell_type": "markdown",
   "id": "ddb119c1-99f9-42e6-8179-86f8a53664d7",
   "metadata": {},
   "source": [
    "##### Exercise 8: Create a code cell to multiply and add numbers"
   ]
  },
  {
   "cell_type": "code",
   "execution_count": 8,
   "id": "a445cd37-5860-4d49-a475-f78ebf9c1e15",
   "metadata": {
    "tags": []
   },
   "outputs": [
    {
     "data": {
      "text/plain": [
       "17"
      ]
     },
     "execution_count": 8,
     "metadata": {},
     "output_type": "execute_result"
    }
   ],
   "source": [
    "# This is a simple arithmetic expression to multiply then add integers.\n",
    "(3*4)+5"
   ]
  },
  {
   "cell_type": "markdown",
   "id": "586dc5b6-4c41-4126-82af-e6963203d7ad",
   "metadata": {},
   "source": [
    "##### Exercise 9: Create a code cell to convert minutes to hours"
   ]
  },
  {
   "cell_type": "code",
   "execution_count": 10,
   "id": "782f0726-ce21-4039-a1da-538b449951ae",
   "metadata": {
    "tags": []
   },
   "outputs": [
    {
     "data": {
      "text/plain": [
       "3.3333333333333335"
      ]
     },
     "execution_count": 10,
     "metadata": {},
     "output_type": "execute_result"
    }
   ],
   "source": [
    "# This will convert 200 minutes to hours by dividing by 60\n",
    "\n",
    "200/60"
   ]
  },
  {
   "cell_type": "markdown",
   "id": "6b934550-01fb-491a-9e74-b1140707691b",
   "metadata": {},
   "source": [
    "##### Exercise 10: Insert a markdown cell to list Objectives"
   ]
  },
  {
   "cell_type": "markdown",
   "id": "e117213e-de78-4a54-a377-82f47b786659",
   "metadata": {},
   "source": [
    "### In this notebook, Data Science tools and Ecosystem are summarized."
   ]
  },
  {
   "cell_type": "code",
   "execution_count": null,
   "id": "cd5d4abe-bbc2-4fdf-a09c-fb5b2f3bd65b",
   "metadata": {},
   "outputs": [],
   "source": [
    "**Objectives:**\n",
    "- To define a Jupyter notebook\n",
    "- To describe how to run, insert, and delete a cell in a notebook\n",
    "- To present a notebook using a combination of Markdown and code cells"
   ]
  },
  {
   "cell_type": "markdown",
   "id": "ace84a52-6ca3-4d43-b45a-00b11c7ed909",
   "metadata": {},
   "source": [
    "**Objectives:**\n",
    "- To define a Jupyter notebook\n",
    "- To describe how to run, insert, and delete a cell in a notebook\n",
    "- To present a notebook using a combination of Markdown and code cells"
   ]
  },
  {
   "cell_type": "markdown",
   "id": "08b19db0-1c12-4eb9-84a3-0c29b2697b22",
   "metadata": {},
   "source": [
    "##### Exercise 11: Create a markdown cell to indicate the Author's name"
   ]
  },
  {
   "cell_type": "code",
   "execution_count": null,
   "id": "27a2f099-8bb8-4b0a-9868-8e999ca14d77",
   "metadata": {},
   "outputs": [],
   "source": [
    "## Author\n",
    "Marissa Dizon"
   ]
  },
  {
   "cell_type": "markdown",
   "id": "2cb0cfc6-0296-4e52-84ae-99961079a4ba",
   "metadata": {},
   "source": [
    "## Author\n",
    "Marissa Dizon"
   ]
  }
 ],
 "metadata": {
  "kernelspec": {
   "display_name": "Python",
   "language": "python",
   "name": "conda-env-python-py"
  },
  "language_info": {
   "codemirror_mode": {
    "name": "ipython",
    "version": 3
   },
   "file_extension": ".py",
   "mimetype": "text/x-python",
   "name": "python",
   "nbconvert_exporter": "python",
   "pygments_lexer": "ipython3",
   "version": "3.7.12"
  }
 },
 "nbformat": 4,
 "nbformat_minor": 5
}
